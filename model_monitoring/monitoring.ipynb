{
 "cells": [
  {
   "cell_type": "code",
   "execution_count": 10,
   "metadata": {},
   "outputs": [
    {
     "name": "stdout",
     "output_type": "stream",
     "text": [
      "training date (2024-09-10) vs Evaluation date: (2024-09-21)\n"
     ]
    }
   ],
   "source": [
    "from datetime import datetime\n",
    "\n",
    "today = datetime.today().date()\n",
    "today\n",
    "\n",
    "print(f\"training date (2024-09-10) vs Evaluation date: ({today})\")"
   ]
  },
  {
   "cell_type": "markdown",
   "metadata": {},
   "source": [
    "I will extract data from the Mercado Libre API for properties that were listed today."
   ]
  },
  {
   "cell_type": "code",
   "execution_count": 1,
   "metadata": {},
   "outputs": [
    {
     "name": "stdout",
     "output_type": "stream",
     "text": [
      "Mataderos\n",
      "Liniers\n",
      "Villa Devoto\n",
      "Villa Urquiza\n",
      "Villa Lugano\n",
      "Flores\n",
      "Villa Luro\n",
      "Villa Pueyrredón\n",
      "Caballito\n",
      "Barracas\n",
      "Floresta\n",
      "Villa del Parque\n",
      "Saavedra\n",
      "Palermo\n",
      "Parque Avellaneda\n",
      "Parque Chacabuco\n",
      "Monte Castro\n",
      "Almagro\n",
      "Boedo\n",
      "Parque Patricios\n",
      "Villa Crespo\n",
      "Núñez\n",
      "San Telmo\n",
      "Belgrano\n",
      "San Cristóbal\n",
      "Versalles\n",
      "Villa Real\n",
      "Velez Sarsfield\n",
      "La Boca\n",
      "Colegiales\n",
      "Santa Rita\n",
      "Nueva Pompeya\n",
      "Balvanera\n",
      "Palermo Soho\n",
      "Paternal\n",
      "Constitución\n",
      "Villa Gral. Mitre\n",
      "Coghlan\n",
      "Villa Soldati\n",
      "Villa Ortúzar\n",
      "Chacarita\n",
      "Parque Chas\n",
      "Palermo Hollywood\n",
      "Agronomía\n",
      "Monserrat\n",
      "Las Cañitas\n",
      "Barrio Norte\n",
      "Belgrano R\n",
      "Recoleta\n",
      "Villa Riachuelo\n",
      "Botánico\n",
      "San Nicolás\n",
      "Congreso\n",
      "Palermo Viejo\n",
      "Palermo Chico\n",
      "Once\n",
      "Belgrano Chico\n",
      "Belgrano C\n",
      "Retiro\n",
      "Palermo Nuevo\n"
     ]
    }
   ],
   "source": [
    "from utils.training.functions import mysql_conn\n",
    "from utils.data_collection.functions import get_data\n",
    "from utils.data_collection.config import ACCESS_TOKEN\n",
    "\n",
    "# Load data into a SQL table\n",
    "engine = mysql_conn()\n",
    "\n",
    "all_results = get_data(acces_token=ACCESS_TOKEN,\n",
    "                        date='today')"
   ]
  },
  {
   "cell_type": "markdown",
   "metadata": {},
   "source": [
    "The  data will be filtered to exclude any properties that were already present in the dataset used to train the model."
   ]
  },
  {
   "cell_type": "code",
   "execution_count": 48,
   "metadata": {},
   "outputs": [],
   "source": [
    "import pandas as pd\n",
    "# Convert data to DataFrame\n",
    "data = pd.DataFrame.from_dict(all_results, orient='index')\n",
    "\n",
    "# Get engine connection\n",
    "engine = mysql_conn()\n",
    "\n",
    "# Get id already stored in the database\n",
    "query = f\"SELECT id FROM properties\"\n",
    "id_stored = pd.read_sql(query, engine)\n",
    "\n",
    "# filter data\n",
    "test = data[~data.index.isin(id_stored)]\n",
    "\n",
    "# Delete duplicated: The ids could be extracted more than once or the same sample could have different id\n",
    "test = test[~test.index.duplicated(keep='first')]\n",
    "test.drop_duplicates(inplace=True)\n",
    "\n",
    "# Add date to the DF\n",
    "test['date'] = [today] * len(test)\n",
    "\n",
    "# Reindex \n",
    "test = test.reset_index().drop('index', axis=1)\n",
    "test['id']=range(len(test))"
   ]
  },
  {
   "cell_type": "markdown",
   "metadata": {},
   "source": [
    "The data will be processed through the pipeline to transform them into the format expected by the model, and predictions will be generated accordingly"
   ]
  },
  {
   "cell_type": "code",
   "execution_count": 55,
   "metadata": {},
   "outputs": [],
   "source": [
    "from utils.deployment.model_loader import LoadModel, LoadPipeline\n",
    "\n",
    "# Get the Pipeline and the Model\n",
    "model = LoadModel()\n",
    "pipeline = LoadPipeline()\n",
    "pipeline.named_steps['density'].stage = 'deploy'\n",
    "\n",
    "# Transform test data\n",
    "transformed_test = pipeline.transform(test).drop('price', axis=1)\n",
    "\n",
    "# Get predictions\n",
    "y_pred = pd.Series(model.predict(transformed_test),\n",
    "                   index=transformed_test.index)\n",
    "\n",
    "# Filter the real values by the samples kept after the transformation  \n",
    "mask=test.index.isin(transformed_test.index)\n",
    "y_test=test.loc[mask, 'price']"
   ]
  },
  {
   "cell_type": "markdown",
   "metadata": {},
   "source": [
    "Let's have a look to the metrics"
   ]
  },
  {
   "cell_type": "code",
   "execution_count": 59,
   "metadata": {},
   "outputs": [
    {
     "name": "stdout",
     "output_type": "stream",
     "text": [
      "Mean Absolut  Error (MAE): 26636.0\n",
      "Mean Absolut Percentage Error (MAPE): 16.0%\n",
      "R^2 Score: 97.0%\n"
     ]
    }
   ],
   "source": [
    "from sklearn.metrics import r2_score, mean_absolute_percentage_error, mean_absolute_error\n",
    "\n",
    "mae = mean_absolute_error(y_test, y_pred)\n",
    "mape = mean_absolute_percentage_error(y_test, y_pred)\n",
    "r2 = r2_score(y_test, y_pred)\n",
    "\n",
    "print(f'Mean Absolut  Error (MAE): {mae.round(0)}')\n",
    "print(f'Mean Absolut Percentage Error (MAPE): {mape.round(2)*100}%')\n",
    "print(f'R^2 Score: {round(r2, 2)*100}%')"
   ]
  },
  {
   "cell_type": "markdown",
   "metadata": {},
   "source": [
    "Now, let's take the training MAE and MAPE values"
   ]
  },
  {
   "cell_type": "code",
   "execution_count": 73,
   "metadata": {},
   "outputs": [
    {
     "name": "stdout",
     "output_type": "stream",
     "text": [
      "Training MAE and MAPE:\n",
      "{'mae': 40215.0, 'mape': 0.18012691662345948}\n"
     ]
    }
   ],
   "source": [
    "import joblib\n",
    "import os\n",
    "\n",
    "cur_dir = os.getcwd()\n",
    "# Import training mae and mape\n",
    "model_train_residuals = joblib.load(os.path.join(cur_dir, 'model', '1', 'model_residual.pkl'))\n",
    "\n",
    "print(\"Training MAE and MAPE:\")\n",
    "print(model_train_residuals)\n",
    "\n",
    "train_mae = model_train_residuals['mae']\n",
    "train_mape = model_train_residuals['mape']"
   ]
  },
  {
   "cell_type": "code",
   "execution_count": 72,
   "metadata": {},
   "outputs": [
    {
     "name": "stdout",
     "output_type": "stream",
     "text": [
      "The model is still predicting correctly with test MAE (26635.55) < train MAE (40215.00) and test MAPE (0.16) < train MAPE (0.18).\n"
     ]
    }
   ],
   "source": [
    "if mae < train_mae and mape < train_mape:\n",
    "    print(f\"The model is still predicting correctly with test MAE ({mae:.2f}) < train MAE ({train_mae:.2f}) and test MAPE ({mape:.2f}) < train MAPE ({train_mape:.2f}).\")\n",
    "else:\n",
    "    print(f\"The model performance has degraded: test MAE ({mae:.2f}) >= train MAE ({train_mae:.2f}) or test MAPE ({mape:.2f}) >= train MAPE ({train_mape:.2f}).\")\n"
   ]
  },
  {
   "cell_type": "markdown",
   "metadata": {},
   "source": [
    "The model continues to perform correctly, with a lower MAE than the one obtained during training, along with a lower MAPE and a significantly higher R² score of 97%."
   ]
  },
  {
   "cell_type": "markdown",
   "metadata": {},
   "source": [
    "I will also evaluate the MAPE for the same price ranges assessed during training to check if the model continues to follow the same performance trends. This will help us ensure consistency in prediction accuracy across different price segments."
   ]
  },
  {
   "cell_type": "code",
   "execution_count": 85,
   "metadata": {},
   "outputs": [
    {
     "data": {
      "text/html": [
       "<div>\n",
       "<style scoped>\n",
       "    .dataframe tbody tr th:only-of-type {\n",
       "        vertical-align: middle;\n",
       "    }\n",
       "\n",
       "    .dataframe tbody tr th {\n",
       "        vertical-align: top;\n",
       "    }\n",
       "\n",
       "    .dataframe thead th {\n",
       "        text-align: right;\n",
       "    }\n",
       "</style>\n",
       "<table border=\"1\" class=\"dataframe\">\n",
       "  <thead>\n",
       "    <tr style=\"text-align: right;\">\n",
       "      <th></th>\n",
       "      <th>mape</th>\n",
       "      <th>size</th>\n",
       "    </tr>\n",
       "    <tr>\n",
       "      <th>price_bins</th>\n",
       "      <th></th>\n",
       "      <th></th>\n",
       "    </tr>\n",
       "  </thead>\n",
       "  <tbody>\n",
       "    <tr>\n",
       "      <th>(40000, 75000]</th>\n",
       "      <td>0.403520</td>\n",
       "      <td>0.132159</td>\n",
       "    </tr>\n",
       "    <tr>\n",
       "      <th>(75000, 105000]</th>\n",
       "      <td>0.137918</td>\n",
       "      <td>0.127753</td>\n",
       "    </tr>\n",
       "    <tr>\n",
       "      <th>(105000, 155000]</th>\n",
       "      <td>0.119911</td>\n",
       "      <td>0.255507</td>\n",
       "    </tr>\n",
       "    <tr>\n",
       "      <th>(155000, 244407]</th>\n",
       "      <td>0.124877</td>\n",
       "      <td>0.237885</td>\n",
       "    </tr>\n",
       "    <tr>\n",
       "      <th>(244407, 5000000]</th>\n",
       "      <td>0.129723</td>\n",
       "      <td>0.246696</td>\n",
       "    </tr>\n",
       "  </tbody>\n",
       "</table>\n",
       "</div>"
      ],
      "text/plain": [
       "                       mape      size\n",
       "price_bins                           \n",
       "(40000, 75000]     0.403520  0.132159\n",
       "(75000, 105000]    0.137918  0.127753\n",
       "(105000, 155000]   0.119911  0.255507\n",
       "(155000, 244407]   0.124877  0.237885\n",
       "(244407, 5000000]  0.129723  0.246696"
      ]
     },
     "execution_count": 85,
     "metadata": {},
     "output_type": "execute_result"
    }
   ],
   "source": [
    "def mape_function(y_true, y_pred):\n",
    "    return ((y_true - y_pred) / y_true).abs().mean()\n",
    "\n",
    "test_result=pd.concat([test.loc[mask, ['neighborhood']],\n",
    "           pd.Series(y_pred, name='pred').astype(int),\n",
    "           y_test], axis=1)\n",
    "\n",
    "\n",
    "test_result['price_bins'] = pd.Series(pd.cut(y_test, [40000, 75000, 105000, 155000, 244407, 5000000]))\n",
    "\n",
    "test_result.groupby(['price_bins'],observed=False).agg(\n",
    "    mape=('price', lambda x: mape_function(x, test_result.loc[x.index, 'pred'])), \n",
    "    size=('price', lambda x: (len(x)/len(test_result)))  \n",
    ").sort_index()"
   ]
  },
  {
   "cell_type": "markdown",
   "metadata": {},
   "source": [
    "The model continues to follow the same trend observed during training. For higher-priced properties, the MAPE remains low, indicating good prediction accuracy. However, for lower-priced properties, particularly those under $75,000, the MAPE is significantly higher, suggesting greater variance and less accurate predictions in this price range.\n",
    "\n",
    "\n",
    "\n",
    "\n",
    "\n",
    "\n"
   ]
  }
 ],
 "metadata": {
  "kernelspec": {
   "display_name": ".nlp-env",
   "language": "python",
   "name": "python3"
  },
  "language_info": {
   "codemirror_mode": {
    "name": "ipython",
    "version": 3
   },
   "file_extension": ".py",
   "mimetype": "text/x-python",
   "name": "python",
   "nbconvert_exporter": "python",
   "pygments_lexer": "ipython3",
   "version": "3.11.2"
  }
 },
 "nbformat": 4,
 "nbformat_minor": 2
}
